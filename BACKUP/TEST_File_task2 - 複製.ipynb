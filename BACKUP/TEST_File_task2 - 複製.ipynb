{
 "cells": [
  {
   "cell_type": "code",
   "execution_count": 94,
   "metadata": {},
   "outputs": [
    {
     "data": {
      "text/plain": [
       "\"\\nimport xml.etree.cElementTree as ET\\ntree = ET.parse('至少還有你_主旋律.musicxml')\\nroot = tree.getroot()\\nroot.tag, root.attrib\\nall_notes = root.findall('.//note')\\nany_notes = []\\n\\nfor note in all_notes:\\n    n={}\\n    if note.find('type') is not None:\\n        n['type'] = note.find('type').text\\n\\n        if note.find('lyric') is not None:\\n            n['lyric'] = note.find('./lyric/text').text\\n\\n        if note.find('pitch') is not None:\\n            n['pitch'] = note.find('./pitch/step').text + note.find('./pitch/octave').text\\n            if note.find('./pitch/alter') is not None:\\n                if note.find('./pitch/alter').text == '-1':\\n                    p = n['pitch'][0] + 'b' + n['pitch'][1]\\n                    n['pitch'] = p\\n                else:\\n                    n['pitch'] = n['pitch'][0] + '#' + n['pitch'][1]\\n        n['dot'] = 0\\n        if note.find('dot') is not None:\\n            n['dot'] = 1\\n        n['tie'] = []\\n        if len(note.findall('tie')) >0:\\n            tied_type = []\\n            for i in note.findall('tie'):\\n                tied_type.append(i.attrib['type'])\\n        \\n            n['tie'] = tied_type\\n\\n    any_notes.append(n)    \\n    \\n    pitch = {'C':0, 'D':2, 'E':4, 'F':5, 'G':7, 'A':9, 'B':11}\\nalter = {'#':1, 'b':-1}\\nduration = {'whole':1, 'half':1/2, 'quarter':1/4, 'eighth':1/8, '16th':1/16, '32nd':1/32}\\n\\nnote_list=[]\\n\\nfor i in any_notes:\\n    if 'type' not in i:\\n        continue\\n    \\n    note_pitch = 0\\n    dot = 0\\n    tie = 0\\n    #note_duration = duration[str(i['type'])]\\n    if 'pitch' in i:\\n        if len(i['pitch'])==2:\\n            note_pitch = pitch[str(i['pitch'][0])] + (int(i['pitch'][1])) *12\\n\\n        else:\\n            note_pitch = pitch[str(i['pitch'][0])] +             alter[str(i['pitch'][1])] + (int(i['pitch'][2])) *12\\n    \\n    if 'dot' in  i:\\n        dot=i['dot']\\n\\n    \\n    if 'tie' in i:\\n        tie=i['tie']\\n\\n    \\n    note_list.append([i['type'], note_pitch, dot, tie])\\n    # C1=12\\n    \""
      ]
     },
     "execution_count": 94,
     "metadata": {},
     "output_type": "execute_result"
    }
   ],
   "source": [
    "'''\n",
    "import xml.etree.cElementTree as ET\n",
    "tree = ET.parse('至少還有你_主旋律.musicxml')\n",
    "root = tree.getroot()\n",
    "root.tag, root.attrib\n",
    "all_notes = root.findall('.//note')\n",
    "any_notes = []\n",
    "\n",
    "for note in all_notes:\n",
    "    n={}\n",
    "    if note.find('type') is not None:\n",
    "        n['type'] = note.find('type').text\n",
    "\n",
    "        if note.find('lyric') is not None:\n",
    "            n['lyric'] = note.find('./lyric/text').text\n",
    "\n",
    "        if note.find('pitch') is not None:\n",
    "            n['pitch'] = note.find('./pitch/step').text + note.find('./pitch/octave').text\n",
    "            if note.find('./pitch/alter') is not None:\n",
    "                if note.find('./pitch/alter').text == '-1':\n",
    "                    p = n['pitch'][0] + 'b' + n['pitch'][1]\n",
    "                    n['pitch'] = p\n",
    "                else:\n",
    "                    n['pitch'] = n['pitch'][0] + '#' + n['pitch'][1]\n",
    "        n['dot'] = 0\n",
    "        if note.find('dot') is not None:\n",
    "            n['dot'] = 1\n",
    "        n['tie'] = []\n",
    "        if len(note.findall('tie')) >0:\n",
    "            tied_type = []\n",
    "            for i in note.findall('tie'):\n",
    "                tied_type.append(i.attrib['type'])\n",
    "        \n",
    "            n['tie'] = tied_type\n",
    "\n",
    "    any_notes.append(n)    \n",
    "    \n",
    "    pitch = {'C':0, 'D':2, 'E':4, 'F':5, 'G':7, 'A':9, 'B':11}\n",
    "alter = {'#':1, 'b':-1}\n",
    "duration = {'whole':1, 'half':1/2, 'quarter':1/4, 'eighth':1/8, '16th':1/16, '32nd':1/32}\n",
    "\n",
    "note_list=[]\n",
    "\n",
    "for i in any_notes:\n",
    "    if 'type' not in i:\n",
    "        continue\n",
    "    \n",
    "    note_pitch = 0\n",
    "    dot = 0\n",
    "    tie = 0\n",
    "    #note_duration = duration[str(i['type'])]\n",
    "    if 'pitch' in i:\n",
    "        if len(i['pitch'])==2:\n",
    "            note_pitch = pitch[str(i['pitch'][0])] + (int(i['pitch'][1])) *12\n",
    "\n",
    "        else:\n",
    "            note_pitch = pitch[str(i['pitch'][0])] + \\\n",
    "            alter[str(i['pitch'][1])] + (int(i['pitch'][2])) *12\n",
    "    \n",
    "    if 'dot' in  i:\n",
    "        dot=i['dot']\n",
    "\n",
    "    \n",
    "    if 'tie' in i:\n",
    "        tie=i['tie']\n",
    "\n",
    "    \n",
    "    note_list.append([i['type'], note_pitch, dot, tie])\n",
    "    # C1=12\n",
    "    '''\n",
    "    "
   ]
  },
  {
   "cell_type": "code",
   "execution_count": null,
   "metadata": {},
   "outputs": [],
   "source": []
  },
  {
   "cell_type": "code",
   "execution_count": null,
   "metadata": {},
   "outputs": [],
   "source": []
  },
  {
   "cell_type": "code",
   "execution_count": null,
   "metadata": {},
   "outputs": [],
   "source": []
  },
  {
   "cell_type": "code",
   "execution_count": null,
   "metadata": {},
   "outputs": [],
   "source": []
  },
  {
   "cell_type": "code",
   "execution_count": 95,
   "metadata": {},
   "outputs": [
    {
     "data": {
      "text/plain": [
       "\"\\nnew_part = ET.Element('part') # creat nodes\\nnew_part.set('id', 'P1')\\n\\ncount_dur=0.0\\ncount_num=1\\ncurrent_m = creat_measure(count_num)\\nnew_part.append(current_m)\\nfor i in note_list[:]:\\n    if count_dur>=1:\\n        print(count_dur)\\n        count_dur=0\\n        count_num+=1\\n        current_m = creat_measure(count_num)\\n        new_part.append(current_m)\\n        \\n        current_m.append(creat_note(i[0],i[1],i[2],i[3]))\\n        if i[2]==1: #note with dot\\n            count_dur+= (duration_dict[i[0]])*1.5\\n        else:\\n            count_dur+=duration_dict[i[0]]\\n    \\n    \\n    else:\\n        current_m.append(creat_note(i[0],i[1],i[2],i[3]))\\n        if i[2]==1: #note with dot\\n            count_dur+= (duration_dict[i[0]])*1.5\\n        else:\\n            count_dur+=duration_dict[i[0]]\\n    \\n\\n    \""
      ]
     },
     "execution_count": 95,
     "metadata": {},
     "output_type": "execute_result"
    }
   ],
   "source": [
    "'''\n",
    "new_part = ET.Element('part') # creat nodes\n",
    "new_part.set('id', 'P1')\n",
    "\n",
    "count_dur=0.0\n",
    "count_num=1\n",
    "current_m = creat_measure(count_num)\n",
    "new_part.append(current_m)\n",
    "for i in note_list[:]:\n",
    "    if count_dur>=1:\n",
    "        print(count_dur)\n",
    "        count_dur=0\n",
    "        count_num+=1\n",
    "        current_m = creat_measure(count_num)\n",
    "        new_part.append(current_m)\n",
    "        \n",
    "        current_m.append(creat_note(i[0],i[1],i[2],i[3]))\n",
    "        if i[2]==1: #note with dot\n",
    "            count_dur+= (duration_dict[i[0]])*1.5\n",
    "        else:\n",
    "            count_dur+=duration_dict[i[0]]\n",
    "    \n",
    "    \n",
    "    else:\n",
    "        current_m.append(creat_note(i[0],i[1],i[2],i[3]))\n",
    "        if i[2]==1: #note with dot\n",
    "            count_dur+= (duration_dict[i[0]])*1.5\n",
    "        else:\n",
    "            count_dur+=duration_dict[i[0]]\n",
    "    \n",
    "\n",
    "    '''\n",
    "    \n",
    "    \n",
    "    \n",
    "    "
   ]
  },
  {
   "cell_type": "code",
   "execution_count": null,
   "metadata": {},
   "outputs": [],
   "source": []
  },
  {
   "cell_type": "code",
   "execution_count": 96,
   "metadata": {},
   "outputs": [],
   "source": [
    "import xml.etree.cElementTree as ET\n",
    "import random"
   ]
  },
  {
   "cell_type": "code",
   "execution_count": 97,
   "metadata": {},
   "outputs": [
    {
     "name": "stderr",
     "output_type": "stream",
     "text": [
      "D:\\Anaconda3\\lib\\site-packages\\ipykernel_launcher.py:5: DeprecationWarning: This method will be removed in future versions.  Use 'list(elem)' or iteration over elem instead.\n",
      "  \"\"\"\n"
     ]
    }
   ],
   "source": [
    "import xml.etree.cElementTree as ET    #deal with the head\n",
    "\n",
    "tree = ET.parse('至少還有你_主旋律.musicxml')\n",
    "root = tree.getroot()\n",
    "childs = root.getchildren()\n",
    "\n",
    "for index, i in enumerate (childs):\n",
    "    if i.tag=='part-list':\n",
    "        new_part_list = childs[index]"
   ]
  },
  {
   "cell_type": "code",
   "execution_count": 98,
   "metadata": {},
   "outputs": [],
   "source": [
    "        company_type = ET.Element('company_type')\n",
    "        company_type.set('type', 'open')\n",
    "        company_type.set('number', '0')"
   ]
  },
  {
   "cell_type": "code",
   "execution_count": 99,
   "metadata": {},
   "outputs": [
    {
     "data": {
      "text/plain": [
       "'open'"
      ]
     },
     "execution_count": 99,
     "metadata": {},
     "output_type": "execute_result"
    }
   ],
   "source": [
    "company_type.attrib['type']"
   ]
  },
  {
   "cell_type": "code",
   "execution_count": 100,
   "metadata": {},
   "outputs": [],
   "source": [
    "fifth={0:0, -1:5, -2:-2, -3:3, -4: -4, -5:1, -6:-6,\\\n",
    "      1:-5, 2:2, 3:-3, 4:4, 5:-1, 6:6}\n",
    "chord=[[0, 4, 7], [2, 5, 9], [4, 7, 11],[5,9,12], \\\n",
    "       [7,11,14], [9,12,16], [11,14,18 ]] #C,Dm,Em,F,G,Am,Bm\n",
    "tempo_open=[['half', 0, [1,3],[0,0]],['eighth', 0, [1], [0]],['quarter', 1, [1,1], [0,1]]]\n",
    "tempo_run=[[['quarter', 0, [1,2,3], [0,0,0]], ['quarter', 0, [1,3], [0,0]],['quarter', 0, [1,2,3], [0,0,0]], ['quarter', 0, [1,3], [0,0]]],\\\n",
    "           [['quarter', 0, [1,2,3], [0,0,0]],['eighth', 0, [2], [0]],['eighth', 0, [3], [0]],['eighth', 0, [2], [0]],['eighth', 0, [1], [0]],['quarter', 0, [1,3], [0,0]]],\\\n",
    "           [['quarter', 0, [1,2,3], [0,0,0]],['eighth', 0, [2], [0]],['eighth', 0, [3], [0]],['quarter', 0, [2], [0]],['quarter', 0, [1,3], [0,0]]]]\n",
    "tempo_end=[['half', 0, [1,2,3],[0,0,0]],['half', 0, [1,3,1],[0,-1,-1]]]\n",
    "#structure:duration, dot, chord, octave\n",
    "\n",
    "pitch = {'C':0, 'D':2, 'E':4, 'F':5, 'G':7, 'A':9, 'B':11}\n",
    "pitch_inver = {v: k for k, v in pitch.items()}\n",
    "alter = {'#':1, 'b':-1}\n",
    "duration_dict = {'whole':1, 'half':1/2, 'quarter':1/4, 'eighth':1/8,\\\n",
    "                 '16th':1/16, '32nd':1/32}\n",
    "duration_dict_inver = {v: k for k, v in duration_dict.items()}\n",
    "\n",
    "\n",
    "def creat_measure(number):\n",
    "    measure_node = ET.Element('measure')\n",
    "    measure_node.set('number',str(number))\n",
    "    measure_attributes = ET.SubElement(measure_node, 'attributes')\n",
    "    measure_attr_divi = ET.SubElement(measure_attributes, 'divisions')\n",
    "    measure_attr_divi.text = '8'\n",
    "    measure_attr_key = ET.SubElement(measure_attributes, 'key')\n",
    "    measure_attr_key_fif = ET.SubElement(measure_attr_key, 'fifths')\n",
    "    measure_attr_key_fif.text = '0'\n",
    "    measure_attr_time = ET.SubElement(measure_attributes, 'time')\n",
    "    measure_attr_time_beats = ET.SubElement(measure_attr_time, 'beats')\n",
    "    measure_attr_time_beats.text = '4'\n",
    "    measure_attr_time_beats_t = ET.SubElement(measure_attr_time, 'beat-type')\n",
    "    measure_attr_time_beats_t.text = '4'\n",
    "    measure_attr_clef = ET.SubElement(measure_attributes, 'clef')\n",
    "    measure_attr_clef_sign = ET.SubElement(measure_attr_clef, 'sign')\n",
    "    measure_attr_clef_sign.text = 'G'\n",
    "    measure_attr_clef_line = ET.SubElement(measure_attr_clef, 'line')\n",
    "    measure_attr_clef_line.text = '2'\n",
    "    \n",
    "    return measure_node\n",
    "\n",
    "def creat_note(duration, pitch, if_dot, slur):\n",
    "    note_node = ET.Element('note')\n",
    "    if pitch == 0:\n",
    "        rest = ET.SubElement(note_node, 'rest')\n",
    "    else:\n",
    "        alter = 0\n",
    "        try :\n",
    "            step = pitch_inver[int(pitch)%12]\n",
    "        \n",
    "        except KeyError:\n",
    "            alter+=1\n",
    "            pitch+=1\n",
    "            step = pitch_inver[int(pitch)%12]\n",
    "        \n",
    "        octave = int(int(pitch)/12)\n",
    "          \n",
    "        note_pitch = ET.SubElement(note_node, 'pitch')\n",
    "        note_pitch_step = ET.SubElement(note_pitch, 'step')\n",
    "        note_pitch_step.text = str(step)\n",
    "        note_pitch_octave = ET.SubElement(note_pitch, 'octave')\n",
    "        note_pitch_octave.text = str(octave)\n",
    "        if alter == 1:\n",
    "            note_pitch_alter = ET.SubElement(note_pitch, 'alter')\n",
    "            note_pitch_alter.text = str(-1)\n",
    "            \n",
    "    note_duration = ET.SubElement(note_node, 'duration')\n",
    "    note_duration.text = str(int(duration_dict[str(duration)])*32)\n",
    "    note_type = ET.SubElement(note_node, 'type')\n",
    "    note_type.text = str(duration)\n",
    "    \n",
    "    if if_dot==1:\n",
    "        note_dot = ET.SubElement(note_node, 'dot')\n",
    "        \n",
    "    if len(slur)==1:\n",
    "        note_tie = ET.SubElement(note_node, 'tie')\n",
    "        note_tie.set('type', slur[0])\n",
    "        note_notations = ET.SubElement(note_node, 'notations')\n",
    "        note_notations_tied = ET.SubElement(note_notations, 'tied')\n",
    "        note_notations_tied.set('type', slur[0])\n",
    "    \n",
    "    elif len(slur)==2:\n",
    "        note_tie = ET.SubElement(note_node, 'tie')\n",
    "        note_tie.set('type', slur[0])\n",
    "        note_tie = ET.SubElement(note_node, 'tie')\n",
    "        note_tie.set('type', slur[1])\n",
    "        note_notations = ET.SubElement(note_node, 'notations')\n",
    "        note_notations_tied = ET.SubElement(note_notations, 'tied')\n",
    "        note_notations_tied.set('type', slur[0])\n",
    "        note_notations_tied = ET.SubElement(note_notations, 'tied')\n",
    "        note_notations_tied.set('type', slur[1])\n",
    "\n",
    "    return note_node\n",
    "        \n",
    "def company_measure_creat(new_part,chord_selected, octave_selected, measure_type):\n",
    "    number = len(new_part.getchildren())+1\n",
    "    company_measure_node = ET.SubElement(new_part, 'measure')\n",
    "    company_measure_node.set('number',str(number))\n",
    "    chord_using = chord[chord_selected]\n",
    "    \n",
    "    if measure_type=='open':\n",
    "        company_type = ET.SubElement(company_measure_node, 'company_type')\n",
    "        company_type.set('type', 'open')\n",
    "        company_type.set('number', '0')\n",
    "        for notes in tempo_open: # bar\n",
    "            for num_chord in range(len(notes[3])): # chord\n",
    "                print(notes, num_chord, chord_using)\n",
    "                if num_chord ==0:\n",
    "                    new_noteinmeasure = creat_note(notes[0], (chord_using[notes[2][num_chord]-1]+(notes[3][num_chord])*12 +octave_selected*12), notes[1], [])\n",
    "                    company_measure_node.append(new_noteinmeasure)\n",
    "                else:\n",
    "                    new_noteinmeasure = creat_note(notes[0], (chord_using[notes[2][num_chord]-1]+(notes[3][num_chord])*12 +octave_selected*12), notes[1], [])\n",
    "                    tag_chord = ET.Element('chord')\n",
    "                    new_noteinmeasure.insert(0,tag_chord)\n",
    "                    company_measure_node.append(new_noteinmeasure)\n",
    "                \n",
    "    \n",
    "    elif measure_type=='run':\n",
    "        company_type = ET.SubElement(company_measure_node, 'company_type')\n",
    "        company_type.set('type', 'run')  \n",
    "        last_company = new_part[len(new_part)-2].find('company_type') #-2 because the last is current one\n",
    "        \n",
    "        if last_company.attrib['type']=='run' and last_company.attrib['number']!='0':\n",
    "            r = int(last_company.attrib['number'])-1\n",
    "            company_type.set('number', '0')\n",
    "            for notes in tempo_run[r]: # bar\n",
    "                for num_chord in range(len(notes[3])): # chord\n",
    "                    if num_chord ==0:\n",
    "                        new_noteinmeasure = creat_note(notes[0], (chord_using[notes[2][num_chord]-1]+(notes[3][num_chord])*12 +octave_selected*12), notes[1], [])\n",
    "                        company_measure_node.append(new_noteinmeasure)\n",
    "                    else:\n",
    "                        new_noteinmeasure = creat_note(notes[0], (chord_using[notes[2][num_chord]-1]+(notes[3][num_chord])*12 +octave_selected*12), notes[1], [])\n",
    "                        tag_chord = ET.Element('chord')\n",
    "                        new_noteinmeasure.insert(0,tag_chord)\n",
    "                        company_measure_node.append(new_noteinmeasure)\n",
    "            \n",
    "            \n",
    "        else:\n",
    "            r= int(random.random()*10)%3\n",
    "            company_type.set('number', str(r+1)) # 0 shows that next run should random, 1,2,3 shows the last tempo should be followed\n",
    "            for notes in tempo_run[r]: # bar\n",
    "                for num_chord in range(len(notes[3])): # chord\n",
    "                    if num_chord ==0:\n",
    "                        new_noteinmeasure = creat_note(notes[0], (chord_using[notes[2][num_chord]-1]+(notes[3][num_chord])*12 +octave_selected*12), notes[1], [])\n",
    "                        company_measure_node.append(new_noteinmeasure)\n",
    "                    else:\n",
    "                        new_noteinmeasure = creat_note(notes[0], (chord_using[notes[2][num_chord]-1]+(notes[3][num_chord])*12 +octave_selected*12), notes[1], [])\n",
    "                        tag_chord = ET.Element('chord')\n",
    "                        new_noteinmeasure.insert(0,tag_chord)\n",
    "                        company_measure_node.append(new_noteinmeasure)\n",
    "                        \n",
    "    elif measure_type=='end':\n",
    "        company_type = ET.SubElement(company_measure_node, 'company_type')\n",
    "        company_type.set('type', 'end')\n",
    "        company_type.set('number', '0')\n",
    "        for notes in tempo_end: # bar\n",
    "            for num_chord in range(len(notes[3])): # chord\n",
    "                if num_chord ==0:\n",
    "                    new_noteinmeasure = creat_note(notes[0], (chord_using[notes[2][num_chord]-1]+(notes[3][num_chord])*12 +octave_selected*12), notes[2], [])\n",
    "                    company_measure_node.append(new_noteinmeasure)\n",
    "                else:\n",
    "                    new_noteinmeasure = creat_note(notes[0], (chord_using[notes[2][num_chord]-1]+(notes[3][num_chord])*12 +octave_selected*12), notes[2], [])\n",
    "                    tag_chord = ET.Element('chord')\n",
    "                    new_noteinmeasure.insert(0,tag_chord)\n",
    "                    company_measure_node.append(new_noteinmeasure)\n",
    "        \n",
    "    #company_measure_node.insert(0,creat_note('whole', (chord_using[0]+(octave_selected-1)*12), 0,[])) #root bass\n",
    "    \n",
    "\n",
    "\n",
    "def create_stop_measure(new_part):\n",
    "    number = len(new_part.getchildren())+1\n",
    "    company_measure_node = ET.SubElement(new_part, 'measure')\n",
    "    company_measure_node.set('number',str(number))\n",
    "    stop_note = ET.SubElement(company_measure_node, 'note')\n",
    "    rest_note = ET.SubElement(stop_note, 'rest')\n",
    "    dur_note = ET.SubElement(stop_note, 'duration')\n",
    "    dur_note.text = '32'\n",
    "    type_note = ET.SubElement(stop_note, 'duration')\n",
    "    type_note.text = 'whole'    \n",
    "    \n",
    "    \n",
    "        "
   ]
  },
  {
   "cell_type": "code",
   "execution_count": 101,
   "metadata": {},
   "outputs": [],
   "source": [
    "#add company instrument\n",
    "comp_score_part = ET.Element('score-part')\n",
    "comp_score_part.set('id', 'C1')\n",
    "c_sp_partname = ET.SubElement(comp_score_part, 'part-name')\n",
    "c_sp_partname.text = '鋼琴'\n",
    "c_sp_partabbreviation = ET.SubElement(comp_score_part, 'part-abbreviation')\n",
    "c_sp_partabbreviation.text = 'Pno.'\n",
    "c_sp_scoreinstrument = ET.SubElement(comp_score_part, 'score-instrument')\n",
    "c_sp_scoreinstrument.set('id', 'C1-I1')\n",
    "c_sp_instrumentname = ET.SubElement(c_sp_scoreinstrument, 'instrument-name')\n",
    "c_sp_instrumentname.text = '鋼琴'\n",
    "c_sp_mididevice = ET.SubElement(comp_score_part, 'midi-device')\n",
    "c_sp_mididevice.set('id', 'C1-I1')\n",
    "c_sp_mididevice.set('port', '1')\n",
    "c_sp_midiinstrument = ET.SubElement(comp_score_part, 'midi-instrument')\n",
    "c_sp_midiinstrument.set('id', 'C1-I1')\n",
    "c_sp_midichannel = ET.SubElement(c_sp_midiinstrument, 'midi-channel')\n",
    "c_sp_midichannel.text = '2'\n",
    "c_sp_midiprogram = ET.SubElement(c_sp_midiinstrument, 'midi-program')\n",
    "c_sp_midiprogram.text = '1'\n",
    "c_sp_volume = ET.SubElement(c_sp_midiinstrument, 'volume')\n",
    "c_sp_volume.text = '55'\n",
    "c_sp_pan = ET.SubElement(c_sp_midiinstrument, 'pan')\n",
    "c_sp_pan.text = '0'\n",
    "\n",
    "new_part_list.append(comp_score_part)\n",
    "\n",
    "\n",
    "\n"
   ]
  },
  {
   "cell_type": "code",
   "execution_count": 102,
   "metadata": {},
   "outputs": [],
   "source": [
    "new_part1 = root.find('part')\n",
    "new_part2 = ET.Element('part')\n",
    "new_part2.set('id', 'C1')\n",
    "\n",
    "\n",
    "new_root = ET.Element(root.tag)\n",
    "new_root.set('version', '3.1')\n",
    "new_root.append(new_part_list)\n",
    "\n",
    "\n",
    "new_root.append(new_part1)\n",
    "new_root.append(new_part2)\n"
   ]
  },
  {
   "cell_type": "code",
   "execution_count": 103,
   "metadata": {},
   "outputs": [
    {
     "data": {
      "text/plain": [
       "28"
      ]
     },
     "execution_count": 103,
     "metadata": {},
     "output_type": "execute_result"
    }
   ],
   "source": [
    "len(new_part1)"
   ]
  },
  {
   "cell_type": "code",
   "execution_count": 104,
   "metadata": {},
   "outputs": [
    {
     "name": "stdout",
     "output_type": "stream",
     "text": [
      "0 0\n",
      "1 1\n",
      "2 2\n",
      "3 3\n",
      "['half', 0, [1, 3], [0, 0]] 0 [0, 4, 7]\n",
      "['half', 0, [1, 3], [0, 0]] 1 [0, 4, 7]\n",
      "['eighth', 0, [1], [0]] 0 [0, 4, 7]\n",
      "['quarter', 1, [1, 1], [0, 1]] 0 [0, 4, 7]\n",
      "['quarter', 1, [1, 1], [0, 1]] 1 [0, 4, 7]\n",
      "4 4\n",
      "5 5\n",
      "6 6\n",
      "7 7\n",
      "8 8\n",
      "9 9\n",
      "10 10\n",
      "11 11\n",
      "12 12\n",
      "13 13\n",
      "14 14\n",
      "15 15\n",
      "16 16\n",
      "17 17\n",
      "18 18\n",
      "19 19\n",
      "20 20\n",
      "21 21\n",
      "22 22\n",
      "23 23\n",
      "24 24\n",
      "25 25\n",
      "26 26\n",
      "27 27\n"
     ]
    },
    {
     "name": "stderr",
     "output_type": "stream",
     "text": [
      "D:\\Anaconda3\\lib\\site-packages\\ipykernel_launcher.py:172: DeprecationWarning: This method will be removed in future versions.  Use 'list(elem)' or iteration over elem instead.\n",
      "D:\\Anaconda3\\lib\\site-packages\\ipykernel_launcher.py:96: DeprecationWarning: This method will be removed in future versions.  Use 'list(elem)' or iteration over elem instead.\n"
     ]
    }
   ],
   "source": [
    "head_tail= []\n",
    "for index, i in enumerate(new_part1): #find head and tail\n",
    "    if_pitch=False\n",
    "    for j in i:\n",
    "        if j.find('pitch') is not None:\n",
    "            if_pitch = True\n",
    "    if if_pitch and len(head_tail)==0:\n",
    "        head_tail.append(index)\n",
    "        head_tail.append(index)\n",
    "    \n",
    "    if if_pitch and len(head_tail)==2:\n",
    "        head_tail[1]=index\n",
    "\n",
    "for index, i in enumerate(new_part1):\n",
    "    print(index, len(new_part2))\n",
    "    measure_comp_list=[]\n",
    "    if index==head_tail[0]:\n",
    "        company_type='open'\n",
    "    elif index==head_tail[1]:\n",
    "        company_type='end'\n",
    "    elif index>head_tail[0] and index<head_tail[1]:\n",
    "        company_type='run'\n",
    "    else:\n",
    "        create_stop_measure(new_part2)\n",
    "        continue\n",
    "    \n",
    "    node_list = []\n",
    "    for j in i.findall('note'):\n",
    "        \n",
    "        ta_node = j.find('pitch')\n",
    "        \n",
    "        if ta_node is not None:  #extract the notes \n",
    "            if ta_node.find('alter') is not None:\n",
    "                note_pitch = pitch[str(ta_node.find('step').text)] + \\\n",
    "                int(ta_node.find('alter').text) + (int(ta_node.find('octave').text)) *12           \n",
    "\n",
    "            else:\n",
    "                note_pitch = pitch[str(ta_node.find('step').text)] + \\\n",
    "                (int(ta_node.find('octave').text)) *12\n",
    "        \n",
    "            if j.find('duration') is not None:\n",
    "                note_duraiton = int(j.find('duration').text)\n",
    "                \n",
    "            node_list.append([note_duraiton, note_pitch])\n",
    "        \n",
    "    chord_distance=[]\n",
    "    note_octave=[]\n",
    "    chord_selected=0\n",
    "    octave_selected=0\n",
    "    max_chord=0\n",
    "    chord_good=[]\n",
    "    for k in chord: # fit the chord\n",
    "        temp=0\n",
    "        for q in node_list:\n",
    "            note_octave.append(int(q[1]/12))\n",
    "            if int(q[1]%12) in k or int(q[1]%12)+12 in k:\n",
    "                temp+=1\n",
    "        chord_distance.append(temp)\n",
    "    \n",
    "    for index, q in enumerate( chord_distance):\n",
    "        #print(chord_distance)\n",
    "        #if q> max_chord:\n",
    "        #    chord_selected=index\n",
    "        #    max_chord=q\n",
    "        if q > max_chord:\n",
    "            chord_good=[index]\n",
    "            max_chord = q\n",
    "        elif q == max_chord:\n",
    "            chord_good.append(index)\n",
    "    \n",
    "    \n",
    "    chord_selected= chord_good[int(random.random()*100)%len(chord_good)]\n",
    "    octave_selected = max([min(note_octave)-1, 1])\n",
    "    \n",
    "    company_measure_creat(new_part2, chord_selected, octave_selected, company_type)\n",
    "    \n",
    "    \n",
    "\n",
    "            \n",
    "            "
   ]
  },
  {
   "cell_type": "code",
   "execution_count": 105,
   "metadata": {},
   "outputs": [
    {
     "data": {
      "text/plain": [
       "[[12, 62]]"
      ]
     },
     "execution_count": 105,
     "metadata": {},
     "output_type": "execute_result"
    }
   ],
   "source": [
    "node_list"
   ]
  },
  {
   "cell_type": "code",
   "execution_count": 106,
   "metadata": {},
   "outputs": [],
   "source": [
    "def indent(elem, level=0):\n",
    "    i = \"\\n\" + level*\"\\t\"\n",
    "    if len(elem):\n",
    "        if not elem.text or not elem.text.strip():\n",
    "            elem.text = i + \"\\t\"\n",
    "        if not elem.tail or not elem.tail.strip():\n",
    "            elem.tail = i\n",
    "        for elem in elem:\n",
    "            indent(elem, level+1)\n",
    "        if not elem.tail or not elem.tail.strip():\n",
    "            elem.tail = i\n",
    "    else:\n",
    "        if level and (not elem.tail or not elem.tail.strip()):\n",
    "            elem.tail = i"
   ]
  },
  {
   "cell_type": "code",
   "execution_count": 107,
   "metadata": {},
   "outputs": [],
   "source": [
    "\n",
    "\n",
    "    indent(new_root)\n",
    "    tree = ET.ElementTree(new_root)\n",
    "    tree.write('TEST/new_test4.xml')"
   ]
  },
  {
   "cell_type": "code",
   "execution_count": 108,
   "metadata": {},
   "outputs": [
    {
     "ename": "NameError",
     "evalue": "name 'new_part' is not defined",
     "output_type": "error",
     "traceback": [
      "\u001b[1;31m---------------------------------------------------------------------------\u001b[0m",
      "\u001b[1;31mNameError\u001b[0m                                 Traceback (most recent call last)",
      "\u001b[1;32m<ipython-input-108-801cb5c6e8da>\u001b[0m in \u001b[0;36m<module>\u001b[1;34m\u001b[0m\n\u001b[1;32m----> 1\u001b[1;33m \u001b[1;32mfor\u001b[0m \u001b[0mi\u001b[0m \u001b[1;32min\u001b[0m \u001b[0mnew_part\u001b[0m\u001b[1;33m.\u001b[0m\u001b[0mfind\u001b[0m\u001b[1;33m(\u001b[0m\u001b[1;34m'measure'\u001b[0m\u001b[1;33m)\u001b[0m\u001b[1;33m[\u001b[0m\u001b[1;36m1\u001b[0m\u001b[1;33m]\u001b[0m\u001b[1;33m:\u001b[0m\u001b[1;33m\u001b[0m\u001b[1;33m\u001b[0m\u001b[0m\n\u001b[0m\u001b[0;32m      2\u001b[0m     \u001b[0mprint\u001b[0m\u001b[1;33m(\u001b[0m\u001b[0mi\u001b[0m\u001b[1;33m)\u001b[0m\u001b[1;33m\u001b[0m\u001b[1;33m\u001b[0m\u001b[0m\n",
      "\u001b[1;31mNameError\u001b[0m: name 'new_part' is not defined"
     ]
    }
   ],
   "source": [
    "for i in new_part.find('measure')[1]:\n",
    "    print(i)"
   ]
  },
  {
   "cell_type": "code",
   "execution_count": null,
   "metadata": {},
   "outputs": [],
   "source": [
    "i = [1,2,5]\n",
    "max(i)"
   ]
  },
  {
   "cell_type": "code",
   "execution_count": null,
   "metadata": {},
   "outputs": [],
   "source": [
    "if 1 in [2,3] or 1 in [2,3]:\n",
    "    print('ooo')"
   ]
  },
  {
   "cell_type": "code",
   "execution_count": null,
   "metadata": {},
   "outputs": [],
   "source": []
  },
  {
   "cell_type": "code",
   "execution_count": null,
   "metadata": {},
   "outputs": [],
   "source": []
  },
  {
   "cell_type": "code",
   "execution_count": null,
   "metadata": {},
   "outputs": [],
   "source": []
  },
  {
   "cell_type": "code",
   "execution_count": null,
   "metadata": {},
   "outputs": [],
   "source": []
  },
  {
   "cell_type": "code",
   "execution_count": null,
   "metadata": {},
   "outputs": [],
   "source": []
  },
  {
   "cell_type": "code",
   "execution_count": null,
   "metadata": {},
   "outputs": [],
   "source": []
  },
  {
   "cell_type": "code",
   "execution_count": null,
   "metadata": {},
   "outputs": [],
   "source": []
  },
  {
   "cell_type": "code",
   "execution_count": null,
   "metadata": {},
   "outputs": [],
   "source": []
  },
  {
   "cell_type": "code",
   "execution_count": null,
   "metadata": {},
   "outputs": [],
   "source": []
  },
  {
   "cell_type": "code",
   "execution_count": null,
   "metadata": {},
   "outputs": [],
   "source": []
  },
  {
   "cell_type": "code",
   "execution_count": null,
   "metadata": {},
   "outputs": [],
   "source": []
  },
  {
   "cell_type": "code",
   "execution_count": null,
   "metadata": {},
   "outputs": [],
   "source": []
  }
 ],
 "metadata": {
  "kernelspec": {
   "display_name": "Python [conda env:root] *",
   "language": "python",
   "name": "conda-root-py"
  },
  "language_info": {
   "codemirror_mode": {
    "name": "ipython",
    "version": 3
   },
   "file_extension": ".py",
   "mimetype": "text/x-python",
   "name": "python",
   "nbconvert_exporter": "python",
   "pygments_lexer": "ipython3",
   "version": "3.7.3"
  }
 },
 "nbformat": 4,
 "nbformat_minor": 2
}
