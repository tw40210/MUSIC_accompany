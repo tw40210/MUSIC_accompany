{
 "cells": [
  {
   "cell_type": "markdown",
   "metadata": {},
   "source": [
    "把ElementTree API加載進來，並解析這個XML"
   ]
  },
  {
   "cell_type": "code",
   "execution_count": 1,
   "metadata": {},
   "outputs": [],
   "source": [
    "import xml.etree.cElementTree as ET\n",
    "tree = ET.parse('test3.musicxml')"
   ]
  },
  {
   "cell_type": "code",
   "execution_count": 3,
   "metadata": {},
   "outputs": [
    {
     "data": {
      "text/plain": [
       "0.7444565098826198"
      ]
     },
     "execution_count": 3,
     "metadata": {},
     "output_type": "execute_result"
    }
   ],
   "source": [
    "import random\n",
    "\n",
    "random.random()"
   ]
  },
  {
   "cell_type": "markdown",
   "metadata": {},
   "source": [
    "抓根節點元素，查看root的標籤內容"
   ]
  },
  {
   "cell_type": "code",
   "execution_count": 29,
   "metadata": {},
   "outputs": [
    {
     "data": {
      "text/plain": [
       "('score-partwise', {'version': '3.1'})"
      ]
     },
     "execution_count": 29,
     "metadata": {},
     "output_type": "execute_result"
    }
   ],
   "source": [
    "root = tree.getroot()\n",
    "root.tag, root.attrib"
   ]
  },
  {
   "cell_type": "markdown",
   "metadata": {},
   "source": [
    "把歌譜上所有的音都抓出來"
   ]
  },
  {
   "cell_type": "code",
   "execution_count": 30,
   "metadata": {},
   "outputs": [],
   "source": [
    "all_notes = root.findall('.//note')"
   ]
  },
  {
   "cell_type": "code",
   "execution_count": 31,
   "metadata": {},
   "outputs": [],
   "source": [
    "import xml.etree.cElementTree as ET\n",
    "tree = ET.parse('test3.musicxml')\n",
    "root = tree.getroot()\n",
    "root.tag, root.attrib\n",
    "all_notes = root.findall('.//note')\n",
    "any_notes = []\n",
    "\n",
    "for note in all_notes:\n",
    "    n={}\n",
    "    if note.find('type') is not None:\n",
    "        n['type'] = note.find('type').text\n",
    "\n",
    "        if note.find('lyric') is not None:\n",
    "            n['lyric'] = note.find('./lyric/text').text\n",
    "\n",
    "        if note.find('pitch') is not None:\n",
    "            n['pitch'] = note.find('./pitch/step').text + note.find('./pitch/octave').text\n",
    "            if note.find('./pitch/alter') is not None:\n",
    "                if note.find('./pitch/alter').text == '-1':\n",
    "                    p = n['pitch'][0] + 'b' + n['pitch'][1]\n",
    "                    n['pitch'] = p\n",
    "                else:\n",
    "                    n['pitch'] = n['pitch'][0] + '#' + n['pitch'][1]\n",
    "\n",
    "    any_notes.append(n)    \n",
    "    \n",
    "    pitch = {'C':1, 'D':3, 'E':5, 'F':6, 'G':8, 'A':10, 'B':12}\n",
    "alter = {'#':1, 'b':-1}\n",
    "duration = {'whole':1, 'half':1/2, 'quarter':1/4, 'eighth':1/8, '16th':1/16, '32nd':1/32}\n",
    "\n",
    "note_list=[]\n",
    "\n",
    "for i in any_notes:\n",
    "    if 'type' not in i:\n",
    "        continue\n",
    "    \n",
    "    note_pitch = 0\n",
    "    note_duration = duration[str(i['type'])]\n",
    "    if 'pitch' in i:\n",
    "        if len(i['pitch'])==2:\n",
    "            note_pitch = pitch[str(i['pitch'][0])] + (int(i['pitch'][1])-1) *12\n",
    "\n",
    "        else:\n",
    "            note_pitch = pitch[str(i['pitch'][0])] + alter[str(i['pitch'][1])] + (int(i['pitch'][2])-1) *12\n",
    "        \n",
    "    note_list.append([note_duration, note_pitch])\n",
    "    \n",
    "    \n",
    "    "
   ]
  },
  {
   "cell_type": "markdown",
   "metadata": {},
   "source": [
    "找出有歌詞的音"
   ]
  },
  {
   "cell_type": "code",
   "execution_count": 17,
   "metadata": {},
   "outputs": [],
   "source": [
    "lyric_notes = []\n",
    "for note in all_notes:\n",
    "    n = {}\n",
    "    if note.find('lyric') is not None:\n",
    "        n['type'] = note.find('type').text\n",
    "        n['lyric'] = note.find('./lyric/text').text\n",
    "        n['pitch'] = note.find('./pitch/step').text + note.find('./pitch/octave').text\n",
    "        if note.find('./pitch/alter') is not None:\n",
    "            if note.find('./pitch/alter').text == '-1':\n",
    "                p = n['pitch'][0] + 'b' + n['pitch'][1]\n",
    "                n['pitch'] = p\n",
    "            else:\n",
    "                n['pitch'] = n['pitch'][0] + '#' + n['pitch'][1]\n",
    "                \n",
    "        lyric_notes.append(n)"
   ]
  },
  {
   "cell_type": "code",
   "execution_count": null,
   "metadata": {},
   "outputs": [],
   "source": []
  },
  {
   "cell_type": "code",
   "execution_count": null,
   "metadata": {},
   "outputs": [],
   "source": []
  },
  {
   "cell_type": "code",
   "execution_count": 32,
   "metadata": {},
   "outputs": [
    {
     "data": {
      "text/plain": [
       "113"
      ]
     },
     "execution_count": 32,
     "metadata": {},
     "output_type": "execute_result"
    }
   ],
   "source": [
    "len(any_notes)"
   ]
  },
  {
   "cell_type": "code",
   "execution_count": 33,
   "metadata": {},
   "outputs": [
    {
     "data": {
      "text/plain": [
       "[{'type': 'eighth', 'lyric': '輕', 'pitch': 'D4'},\n",
       " {'type': 'eighth', 'lyric': '輕', 'pitch': 'B4'},\n",
       " {'type': 'eighth', 'lyric': '的', 'pitch': 'A4'},\n",
       " {'type': 'quarter', 'lyric': '夏', 'pitch': 'B4'},\n",
       " {'type': 'quarter', 'lyric': '天', 'pitch': 'B4'},\n",
       " {'type': 'eighth'},\n",
       " {'type': 'eighth', 'lyric': '輕', 'pitch': 'E4'},\n",
       " {'type': 'eighth', 'lyric': '輕', 'pitch': 'B4'},\n",
       " {'type': 'eighth', 'lyric': '的', 'pitch': 'A4'},\n",
       " {'type': 'eighth', 'lyric': '後', 'pitch': 'B4'},\n",
       " {'type': 'eighth', 'lyric': '山', 'pitch': 'A4'},\n",
       " {'type': 'eighth', 'lyric': '草', 'pitch': 'G4'},\n",
       " {'type': 'quarter', 'lyric': '原', 'pitch': 'B4'},\n",
       " {'type': 'eighth'},\n",
       " {'type': 'eighth', 'lyric': '落', 'pitch': 'B4'},\n",
       " {'type': 'eighth', 'lyric': '下', 'pitch': 'A4'},\n",
       " {'type': 'eighth', 'lyric': '的', 'pitch': 'G4'},\n",
       " {'type': 'quarter', 'lyric': '瘋', 'pitch': 'B4'},\n",
       " {'type': 'quarter', 'lyric': '癲', 'pitch': 'B4'},\n",
       " {'type': 'eighth'},\n",
       " {'type': 'eighth', 'lyric': '遺', 'pitch': 'A4'},\n",
       " {'type': 'eighth', 'lyric': '失', 'pitch': 'B4'},\n",
       " {'type': 'eighth', 'lyric': '的', 'pitch': 'A4'},\n",
       " {'type': 'eighth', 'lyric': '每', 'pitch': 'A4'},\n",
       " {'type': 'eighth', 'lyric': '段', 'pitch': 'A4'},\n",
       " {'type': 'eighth', 'lyric': '歲', 'pitch': 'C5'},\n",
       " {'type': 'eighth', 'lyric': '月', 'pitch': 'G4'},\n",
       " {'type': 'eighth', 'pitch': 'G4'},\n",
       " {'type': 'eighth'},\n",
       " {'type': 'eighth', 'lyric': '你', 'pitch': 'F4'},\n",
       " {'type': 'eighth', 'lyric': '說', 'pitch': 'C5'},\n",
       " {'type': 'eighth', 'lyric': '我', 'pitch': 'A4'},\n",
       " {'type': 'quarter', 'lyric': '不', 'pitch': 'B4'},\n",
       " {'type': 'eighth', 'pitch': 'B4'},\n",
       " {'type': 'eighth', 'lyric': '會', 'pitch': 'D5'},\n",
       " {'type': 'eighth', 'pitch': 'D5'},\n",
       " {'type': 'quarter', 'lyric': '懂', 'pitch': 'A4'},\n",
       " {'type': 'eighth'},\n",
       " {'type': 'eighth'},\n",
       " {'type': '16th', 'lyric': '你', 'pitch': 'G4'},\n",
       " {'type': '16th', 'lyric': '說', 'pitch': 'A4'},\n",
       " {'type': '16th', 'pitch': 'A4'},\n",
       " {'type': '16th', 'lyric': '時', 'pitch': 'B4'},\n",
       " {'type': '16th', 'pitch': 'B4'},\n",
       " {'type': '16th', 'lyric': '光', 'pitch': 'B4'},\n",
       " {'type': '16th', 'pitch': 'B4'},\n",
       " {'type': 'eighth', 'lyric': '終', 'pitch': 'B4'},\n",
       " {'type': 'eighth', 'lyric': '究', 'pitch': 'A4'},\n",
       " {'type': 'eighth', 'lyric': '會', 'pitch': 'B4'},\n",
       " {'type': 'quarter', 'lyric': '到', 'pitch': 'D5'},\n",
       " {'type': '16th', 'lyric': '頭', 'pitch': 'A4'},\n",
       " {'type': 'eighth', 'pitch': 'A4'},\n",
       " {'type': '16th'},\n",
       " {'type': 'eighth'},\n",
       " {'type': 'eighth'},\n",
       " {'type': 'eighth', 'lyric': '我', 'pitch': 'C5'},\n",
       " {'type': 'eighth', 'lyric': '們', 'pitch': 'D5'},\n",
       " {'type': 'eighth', 'lyric': '用', 'pitch': 'C5'},\n",
       " {'type': 'eighth', 'lyric': '蟬', 'pitch': 'E5'},\n",
       " {'type': 'eighth', 'pitch': 'E5'},\n",
       " {'type': 'quarter', 'lyric': '聲', 'pitch': 'E5'},\n",
       " {'type': 'eighth', 'lyric': '去', 'pitch': 'E5'},\n",
       " {'type': 'eighth', 'lyric': '琢', 'pitch': 'D5'},\n",
       " {'type': 'quarter', 'lyric': '磨', 'pitch': 'E5'},\n",
       " {'type': 'eighth'},\n",
       " {'type': 'eighth', 'lyric': '一', 'pitch': 'F5'},\n",
       " {'type': 'eighth', 'lyric': '個', 'pitch': 'G5'},\n",
       " {'type': 'eighth', 'lyric': '無', 'pitch': 'A5'},\n",
       " {'type': 'eighth', 'pitch': 'A5'},\n",
       " {'type': 'eighth', 'lyric': '人', 'pitch': 'E5'},\n",
       " {'type': 'eighth', 'pitch': 'E5'},\n",
       " {'type': 'eighth', 'lyric': '走', 'pitch': 'E5'},\n",
       " {'type': 'eighth', 'lyric': '過', 'pitch': 'G5'},\n",
       " {'type': 'eighth', 'pitch': 'G5'},\n",
       " {'type': 'eighth', 'lyric': '的', 'pitch': 'F5'},\n",
       " {'type': 'eighth', 'lyric': '午', 'pitch': 'E5'},\n",
       " {'type': 'quarter', 'lyric': '後', 'pitch': 'D5'},\n",
       " {'type': 'quarter'},\n",
       " {'type': 'quarter', 'pitch': 'F4'},\n",
       " {'type': 'eighth', 'pitch': 'G4'},\n",
       " {'type': 'quarter', 'pitch': 'F4'},\n",
       " {'type': 'quarter', 'pitch': 'A4'},\n",
       " {'type': 'quarter', 'pitch': 'C5'},\n",
       " {'type': 'quarter', 'pitch': 'B4'},\n",
       " {'type': 'quarter', 'pitch': 'C5'},\n",
       " {'type': 'quarter', 'pitch': 'E5'},\n",
       " {'type': 'whole', 'pitch': 'D5'},\n",
       " {'type': 'whole', 'pitch': 'E5'},\n",
       " {'type': '32nd', 'pitch': 'A4'},\n",
       " {'type': '32nd'},\n",
       " {'type': '16th'},\n",
       " {'type': 'eighth'},\n",
       " {'type': 'half', 'pitch': 'B4'},\n",
       " {'type': 'eighth', 'pitch': 'B4'},\n",
       " {'type': 'eighth', 'pitch': 'G4'},\n",
       " {},\n",
       " {},\n",
       " {},\n",
       " {},\n",
       " {},\n",
       " {},\n",
       " {},\n",
       " {},\n",
       " {},\n",
       " {},\n",
       " {},\n",
       " {},\n",
       " {},\n",
       " {},\n",
       " {},\n",
       " {},\n",
       " {},\n",
       " {}]"
      ]
     },
     "execution_count": 33,
     "metadata": {},
     "output_type": "execute_result"
    }
   ],
   "source": [
    "any_notes"
   ]
  },
  {
   "cell_type": "code",
   "execution_count": 7,
   "metadata": {},
   "outputs": [
    {
     "name": "stdout",
     "output_type": "stream",
     "text": [
      "whole\n"
     ]
    }
   ],
   "source": [
    "print(all_notes[0].find('type').text)"
   ]
  },
  {
   "cell_type": "code",
   "execution_count": 42,
   "metadata": {},
   "outputs": [
    {
     "name": "stdout",
     "output_type": "stream",
     "text": [
      "{'type': 'eighth', 'lyric': '輕', 'pitch': 'D4'}\n",
      "{'type': 'eighth', 'lyric': '輕', 'pitch': 'B4'}\n",
      "{'type': 'eighth', 'lyric': '的', 'pitch': 'A4'}\n",
      "{'type': 'quarter', 'lyric': '夏', 'pitch': 'B4'}\n",
      "{'type': 'quarter', 'lyric': '天', 'pitch': 'B4'}\n",
      "{'type': 'eighth'}\n",
      "{'type': 'eighth', 'lyric': '輕', 'pitch': 'E4'}\n",
      "{'type': 'eighth', 'lyric': '輕', 'pitch': 'B4'}\n",
      "{'type': 'eighth', 'lyric': '的', 'pitch': 'A4'}\n",
      "{'type': 'eighth', 'lyric': '後', 'pitch': 'B4'}\n",
      "{'type': 'eighth', 'lyric': '山', 'pitch': 'A4'}\n",
      "{'type': 'eighth', 'lyric': '草', 'pitch': 'G4'}\n",
      "{'type': 'quarter', 'lyric': '原', 'pitch': 'B4'}\n",
      "{'type': 'eighth'}\n",
      "{'type': 'eighth', 'lyric': '落', 'pitch': 'B4'}\n",
      "{'type': 'eighth', 'lyric': '下', 'pitch': 'A4'}\n",
      "{'type': 'eighth', 'lyric': '的', 'pitch': 'G4'}\n",
      "{'type': 'quarter', 'lyric': '瘋', 'pitch': 'B4'}\n",
      "{'type': 'quarter', 'lyric': '癲', 'pitch': 'B4'}\n",
      "{'type': 'eighth'}\n",
      "{'type': 'eighth', 'lyric': '遺', 'pitch': 'A4'}\n",
      "{'type': 'eighth', 'lyric': '失', 'pitch': 'B4'}\n",
      "{'type': 'eighth', 'lyric': '的', 'pitch': 'A4'}\n",
      "{'type': 'eighth', 'lyric': '每', 'pitch': 'A4'}\n",
      "{'type': 'eighth', 'lyric': '段', 'pitch': 'A4'}\n",
      "{'type': 'eighth', 'lyric': '歲', 'pitch': 'C5'}\n",
      "{'type': 'eighth', 'lyric': '月', 'pitch': 'G4'}\n",
      "{'type': 'eighth', 'pitch': 'G4'}\n",
      "{'type': 'eighth'}\n",
      "{'type': 'eighth', 'lyric': '你', 'pitch': 'F4'}\n",
      "{'type': 'eighth', 'lyric': '說', 'pitch': 'C5'}\n",
      "{'type': 'eighth', 'lyric': '我', 'pitch': 'A4'}\n",
      "{'type': 'quarter', 'lyric': '不', 'pitch': 'B4'}\n",
      "{'type': 'eighth', 'pitch': 'B4'}\n",
      "{'type': 'eighth', 'lyric': '會', 'pitch': 'D5'}\n",
      "{'type': 'eighth', 'pitch': 'D5'}\n",
      "{'type': 'quarter', 'lyric': '懂', 'pitch': 'A4'}\n",
      "{'type': 'eighth'}\n",
      "{'type': 'eighth'}\n",
      "{'type': '16th', 'lyric': '你', 'pitch': 'G4'}\n",
      "{'type': '16th', 'lyric': '說', 'pitch': 'A4'}\n",
      "{'type': '16th', 'pitch': 'A4'}\n",
      "{'type': '16th', 'lyric': '時', 'pitch': 'B4'}\n",
      "{'type': '16th', 'pitch': 'B4'}\n",
      "{'type': '16th', 'lyric': '光', 'pitch': 'B4'}\n",
      "{'type': '16th', 'pitch': 'B4'}\n",
      "{'type': 'eighth', 'lyric': '終', 'pitch': 'B4'}\n",
      "{'type': 'eighth', 'lyric': '究', 'pitch': 'A4'}\n",
      "{'type': 'eighth', 'lyric': '會', 'pitch': 'B4'}\n",
      "{'type': 'quarter', 'lyric': '到', 'pitch': 'D5'}\n",
      "{'type': '16th', 'lyric': '頭', 'pitch': 'A4'}\n",
      "{'type': 'eighth', 'pitch': 'A4'}\n",
      "{'type': '16th'}\n",
      "{'type': 'eighth'}\n",
      "{'type': 'eighth'}\n",
      "{'type': 'eighth', 'lyric': '我', 'pitch': 'C5'}\n",
      "{'type': 'eighth', 'lyric': '們', 'pitch': 'D5'}\n",
      "{'type': 'eighth', 'lyric': '用', 'pitch': 'C5'}\n",
      "{'type': 'eighth', 'lyric': '蟬', 'pitch': 'E5'}\n",
      "{'type': 'eighth', 'pitch': 'E5'}\n",
      "{'type': 'quarter', 'lyric': '聲', 'pitch': 'E5'}\n",
      "{'type': 'eighth', 'lyric': '去', 'pitch': 'E5'}\n",
      "{'type': 'eighth', 'lyric': '琢', 'pitch': 'D5'}\n",
      "{'type': 'quarter', 'lyric': '磨', 'pitch': 'E5'}\n",
      "{'type': 'eighth'}\n",
      "{'type': 'eighth', 'lyric': '一', 'pitch': 'F5'}\n",
      "{'type': 'eighth', 'lyric': '個', 'pitch': 'G5'}\n",
      "{'type': 'eighth', 'lyric': '無', 'pitch': 'A5'}\n",
      "{'type': 'eighth', 'pitch': 'A5'}\n",
      "{'type': 'eighth', 'lyric': '人', 'pitch': 'E5'}\n",
      "{'type': 'eighth', 'pitch': 'E5'}\n",
      "{'type': 'eighth', 'lyric': '走', 'pitch': 'E5'}\n",
      "{'type': 'eighth', 'lyric': '過', 'pitch': 'G5'}\n",
      "{'type': 'eighth', 'pitch': 'G5'}\n",
      "{'type': 'eighth', 'lyric': '的', 'pitch': 'F5'}\n",
      "{'type': 'eighth', 'lyric': '午', 'pitch': 'E5'}\n",
      "{'type': 'quarter', 'lyric': '後', 'pitch': 'D5'}\n",
      "{'type': 'quarter'}\n",
      "{'type': 'quarter', 'pitch': 'F4'}\n",
      "{'type': 'eighth', 'pitch': 'G4'}\n",
      "{'type': 'quarter', 'pitch': 'F4'}\n",
      "{'type': 'quarter', 'pitch': 'A4'}\n",
      "{'type': 'quarter', 'pitch': 'C5'}\n",
      "{'type': 'quarter', 'pitch': 'B4'}\n",
      "{'type': 'quarter', 'pitch': 'C5'}\n",
      "{'type': 'quarter', 'pitch': 'E5'}\n",
      "{'type': 'whole', 'pitch': 'D5'}\n",
      "{'type': 'whole', 'pitch': 'E5'}\n",
      "{'type': '32nd', 'pitch': 'A4'}\n",
      "{'type': '32nd'}\n",
      "{'type': '16th'}\n",
      "{'type': 'eighth'}\n",
      "{'type': 'half', 'pitch': 'B4'}\n",
      "{'type': 'eighth', 'pitch': 'B4'}\n",
      "{'type': 'eighth', 'pitch': 'G4'}\n"
     ]
    }
   ],
   "source": [
    "pitch = {'C':1, 'D':3, 'E':5, 'F':6, 'G':8, 'A':10, 'B':12}\n",
    "alter = {'#':1, 'b':-1}\n",
    "duration = {'whole':1, 'half':1/2, 'quarter':1/4, 'eighth':1/8, '16th':1/16, '32nd':1/32}\n",
    "\n",
    "note_list=[]\n",
    "\n",
    "for i in any_notes:\n",
    "    if 'type' not in i:\n",
    "        continue\n",
    "    \n",
    "    note_pitch = 0\n",
    "    note_duration = duration[str(i['type'])]\n",
    "    if 'pitch' in i:\n",
    "        if len(i['pitch'])==2:\n",
    "            note_pitch = pitch[str(i['pitch'][0])] + (int(i['pitch'][1])-1) *12\n",
    "\n",
    "        else:\n",
    "            note_pitch = pitch[str(i['pitch'][0])] + alter[str(i['pitch'][1])] + (int(i['pitch'][2])-1) *12\n",
    "        \n",
    "    note_list.append([note_duration, note_pitch])\n",
    "    \n",
    "    \n",
    "    "
   ]
  },
  {
   "cell_type": "code",
   "execution_count": 43,
   "metadata": {},
   "outputs": [
    {
     "data": {
      "text/plain": [
       "[[0.125, 39],\n",
       " [0.125, 48],\n",
       " [0.125, 46],\n",
       " [0.25, 48],\n",
       " [0.25, 48],\n",
       " [0.125, 0],\n",
       " [0.125, 41],\n",
       " [0.125, 48],\n",
       " [0.125, 46],\n",
       " [0.125, 48],\n",
       " [0.125, 46],\n",
       " [0.125, 44],\n",
       " [0.25, 48],\n",
       " [0.125, 0],\n",
       " [0.125, 48],\n",
       " [0.125, 46],\n",
       " [0.125, 44],\n",
       " [0.25, 48],\n",
       " [0.25, 48],\n",
       " [0.125, 0],\n",
       " [0.125, 46],\n",
       " [0.125, 48],\n",
       " [0.125, 46],\n",
       " [0.125, 46],\n",
       " [0.125, 46],\n",
       " [0.125, 49],\n",
       " [0.125, 44],\n",
       " [0.125, 44],\n",
       " [0.125, 0],\n",
       " [0.125, 42],\n",
       " [0.125, 49],\n",
       " [0.125, 46],\n",
       " [0.25, 48],\n",
       " [0.125, 48],\n",
       " [0.125, 51],\n",
       " [0.125, 51],\n",
       " [0.25, 46],\n",
       " [0.125, 0],\n",
       " [0.125, 0],\n",
       " [0.0625, 44],\n",
       " [0.0625, 46],\n",
       " [0.0625, 46],\n",
       " [0.0625, 48],\n",
       " [0.0625, 48],\n",
       " [0.0625, 48],\n",
       " [0.0625, 48],\n",
       " [0.125, 48],\n",
       " [0.125, 46],\n",
       " [0.125, 48],\n",
       " [0.25, 51],\n",
       " [0.0625, 46],\n",
       " [0.125, 46],\n",
       " [0.0625, 0],\n",
       " [0.125, 0],\n",
       " [0.125, 0],\n",
       " [0.125, 49],\n",
       " [0.125, 51],\n",
       " [0.125, 49],\n",
       " [0.125, 53],\n",
       " [0.125, 53],\n",
       " [0.25, 53],\n",
       " [0.125, 53],\n",
       " [0.125, 51],\n",
       " [0.25, 53],\n",
       " [0.125, 0],\n",
       " [0.125, 54],\n",
       " [0.125, 56],\n",
       " [0.125, 58],\n",
       " [0.125, 58],\n",
       " [0.125, 53],\n",
       " [0.125, 53],\n",
       " [0.125, 53],\n",
       " [0.125, 56],\n",
       " [0.125, 56],\n",
       " [0.125, 54],\n",
       " [0.125, 53],\n",
       " [0.25, 51],\n",
       " [0.25, 0],\n",
       " [0.25, 42],\n",
       " [0.125, 44],\n",
       " [0.25, 42],\n",
       " [0.25, 46],\n",
       " [0.25, 49],\n",
       " [0.25, 48],\n",
       " [0.25, 49],\n",
       " [0.25, 53],\n",
       " [1, 51],\n",
       " [1, 53],\n",
       " [0.03125, 46],\n",
       " [0.03125, 0],\n",
       " [0.0625, 0],\n",
       " [0.125, 0],\n",
       " [0.5, 48],\n",
       " [0.125, 48],\n",
       " [0.125, 44]]"
      ]
     },
     "execution_count": 43,
     "metadata": {},
     "output_type": "execute_result"
    }
   ],
   "source": [
    "note_list"
   ]
  },
  {
   "cell_type": "code",
   "execution_count": null,
   "metadata": {},
   "outputs": [],
   "source": []
  }
 ],
 "metadata": {
  "kernelspec": {
   "display_name": "Python 3",
   "language": "python",
   "name": "python3"
  },
  "language_info": {
   "codemirror_mode": {
    "name": "ipython",
    "version": 3
   },
   "file_extension": ".py",
   "mimetype": "text/x-python",
   "name": "python",
   "nbconvert_exporter": "python",
   "pygments_lexer": "ipython3",
   "version": "3.7.3"
  }
 },
 "nbformat": 4,
 "nbformat_minor": 2
}
